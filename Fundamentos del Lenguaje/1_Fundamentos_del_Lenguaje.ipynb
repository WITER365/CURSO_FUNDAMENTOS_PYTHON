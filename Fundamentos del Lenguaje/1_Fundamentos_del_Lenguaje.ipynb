{
  "cells": [
    {
      "cell_type": "markdown",
      "metadata": {},
      "source": [
        "EJERCICIOS 15/03/2025"
      ]
    },
    {
      "cell_type": "markdown",
      "metadata": {},
      "source": [
        "1.Procesamiento de Números del 1 al 20 Se requiere desarrollar un programa que trabaje con los números comprendidos entre el 1 y el 20, de forma que se identifiquen y muestren aquellos que sean divisibles por dos, acompañados de su posición en la secuencia. Además, el sistema debe recorrer la colección para determinar cuántos números no cumplen esa propiedad y calcular la suma de los que sí la cumplen. El objetivo es diseñar la lógica necesaria para examinar y procesar los números según las condiciones indicadas."
      ]
    },
    {
      "cell_type": "code",
      "execution_count": null,
      "metadata": {},
      "outputs": [],
      "source": [
        "numeros = range(1, 21)\n",
        "divisibles_por_2 = []\n",
        "suma_divisibles = 0\n",
        "no_divisibles = 0\n",
        "for i, num in enumerate(numeros, start=1):\n",
        "    if num % 2 == 0:\n",
        "        divisibles_por_2.append((i, num))\n",
        "        suma_divisibles += num\n",
        "    else:\n",
        "        no_divisibles += 1\n",
        "print(\"Números divisibles por 2 y su posición:\")\n",
        "for pos, num in divisibles_por_2:\n",
        "    print(f\"Posición {pos}: {num}\")\n",
        "\n",
        "print(f\"\\nCantidad de números no divisibles por 2: {no_divisibles}\")\n",
        "print(f\"Suma de los números divisibles por 2: {suma_divisibles}\")"
      ]
    },
    {
      "cell_type": "markdown",
      "metadata": {},
      "source": [
        "2.Administración de Actividades Diarias Imagina una aplicación para gestionar las actividades cotidianas de una persona, donde se disponga de una serie de tareas, algunas de las cuales indican que ya han sido concluidas. El desafío consiste en presentar cada actividad junto a su posición en la colección, filtrar aquellas que contengan una marca de finalización y actualizar el conjunto de actividades. Finalmente, se debe exhibir el estado del conjunto antes y después de aplicar el filtro, permitiendo al usuario observar los cambios realizados."
      ]
    },
    {
      "cell_type": "code",
      "execution_count": null,
      "metadata": {},
      "outputs": [],
      "source": [
        "class Actividad:\n",
        "    def __init__(self, descripcion, completada=False):\n",
        "        self.descripcion = descripcion\n",
        "        self.completada = completada\n",
        "\n",
        "    def __str__(self):\n",
        "        estado = \"T\" if self.completada else \"X\"\n",
        "        return f\"{estado} {self.descripcion}\"\n",
        "actividades = [\n",
        "    Actividad(\"Hacer ejercicio\"),\n",
        "    Actividad(\"Estudiar Python\", True),\n",
        "    Actividad(\"Comprar víveres\"),\n",
        "    Actividad(\"Llamar a la familia\", True),\n",
        "    Actividad(\"Leer un libro\"),\n",
        "]\n",
        "print(\"\\nEstado inicial de las actividades:\")\n",
        "for i, actividad in enumerate(actividades, 1):\n",
        "    print(f\"{i}. {actividad}\")\n",
        "actividades_pendientes = [act for act in actividades if not act.completada]\n",
        "print(\"\\nEstado después del filtrado:\")\n",
        "for i, actividad in enumerate(actividades_pendientes, 1):\n",
        "    print(f\"{i}. {actividad}\")\n"
      ]
    },
    {
      "cell_type": "markdown",
      "metadata": {},
      "source": [
        "3. Filtrado y Transformación de Texto Propón un sistema en el que se solicite al usuario una secuencia de caracteres. A partir de la entrada, se debe descomponer el texto en sus componentes individuales y extraer únicamente aquellos que correspondan a letras del alfabeto, omitiendo números y símbolos. Una vez realizado este filtrado, la colección resultante deberá ser convertida en una estructura que no permita modificaciones, y el resultado final se debe mostrar al usuario."
      ]
    },
    {
      "cell_type": "code",
      "execution_count": null,
      "metadata": {},
      "outputs": [],
      "source": [
        "def filtrar_y_transformar_texto():\n",
        "    texto = input(\"Escribe algo: \")\n",
        "    letras = tuple(caracter for caracter in texto if caracter.isalpha())\n",
        "\n",
        "    print(\"\\nTexto filtrado y convertido en tupla:\")\n",
        "    print(letras)\n",
        "\n",
        "filtrar_y_transformar_texto()\n"
      ]
    },
    {
      "cell_type": "markdown",
      "metadata": {},
      "source": [
        "4. Informe Interactivo de Alumnos Considera dos conjuntos de datos paralelos: uno con nombres de estudiantes y otro con sus respectivas calificaciones. El reto consiste en elaborar un informe que relacione cada alumno con su nota, presentando también la posición de cada registro. Posteriormente, el sistema debe permitir al usuario consultar la nota de un alumno específico introduciendo la posición correspondiente, finalizando la consulta si se ingresa un valor fuera del rango válido. La solución deberá vincular ambas colecciones de manera sincronizada y ofrecer una interacción dinámica."
      ]
    },
    {
      "cell_type": "code",
      "execution_count": null,
      "metadata": {},
      "outputs": [],
      "source": [
        "print(\"\\n escoja el numero  del alumno 0,1,2,3\")\n",
        "def informe_alumnos():\n",
        "    alumnos = [\"Juan\", \"Ana\", \"Luis\",\"jose\"]\n",
        "    notas = [8, 9, 7, 10]\n",
        "\n",
        "    print(\"\\nInforme de Alumnos:\")\n",
        "    for i, (alumno, nota) in enumerate(zip(alumnos, notas)):\n",
        "        print(f\"{i}. {alumno}: {nota}\")\n",
        "\n",
        "    while True:\n",
        "        try:\n",
        "            pos = int(input(\"\\nIngrese el número del alumno para ver su nota (fuera de rango para salir): \"))\n",
        "            if pos < 0 or pos >= len(alumnos):\n",
        "                print(\"Saliendo del sistema.\")\n",
        "                break\n",
        "            print(f\"{alumnos[pos]} tiene {notas[pos]}\")\n",
        "        except ValueError:\n",
        "            print(\"Por favor, ingrese un número válido.\")\n",
        "informe_alumnos()"
      ]
    },
    {
      "cell_type": "markdown",
      "metadata": {},
      "source": [
        "5. Aplicación de Operaciones sobre Valores Numéricos Diseña una aplicación que inicie con una serie de valores numéricos predefinidos. El usuario interactuará mediante un menú que le permita realizar distintas operaciones: calcular la suma total de los valores, reordenarlos según un criterio específico o eliminar uno de ellos según una indicación. La interfaz deberá ofrecer la posibilidad de repetir estas acciones hasta que el usuario decida finalizar. El desafío es organizar el flujo de la interacción y manipular la colección de números de acuerdo a la opción elegida.."
      ]
    },
    {
      "cell_type": "code",
      "execution_count": null,
      "metadata": {},
      "outputs": [],
      "source": [
        "\n",
        "def menu_operaciones():\n",
        "    numeros = [10, 20, 30]\n",
        "    while True:\n",
        "        print(\"\\nMenú de operaciones:\")\n",
        "        print(\"1. Ver suma total\")\n",
        "        print(\"2. Ver lista de valores\")\n",
        "        print(\"3. Ordenar valores ascendentemente\")\n",
        "        print(\"4. Ordenar valores descendentemente\")\n",
        "        print(\"5. Eliminar un valor por su índice\")\n",
        "        print(\"6. Agregar un nuevo número\")\n",
        "        print(\"7. Salir\")\n",
        "        opcion = input(\"Elige una opción: \")\n",
        "        if opcion == \"1\":\n",
        "            print(\"Suma total:\", sum(numeros))\n",
        "        elif opcion == \"2\":\n",
        "            print(\"Lista de valores:\", numeros)\n",
        "        elif opcion == \"3\":\n",
        "            numeros.sort()\n",
        "            print(\"Lista ordenada ascendentemente:\", numeros)\n",
        "        elif opcion == \"4\":\n",
        "            numeros.sort(reverse=True)\n",
        "            print(\"Lista ordenada descendentemente:\", numeros)\n",
        "        elif opcion == \"5\":\n",
        "            try:\n",
        "                index = int(input(\"Ingrese el índice del valor a eliminar: \"))\n",
        "                if 0 <= index < len(numeros):\n",
        "                    eliminado = numeros.pop(index)\n",
        "                    print(f\"Valor {eliminado} eliminado correctamente.\")\n",
        "                else:\n",
        "                    print(\"Índice fuera de rango.\")\n",
        "            except ValueError:\n",
        "                print(\"Por favor, ingrese un número válido.\")\n",
        "        elif opcion == \"6\":\n",
        "            try:\n",
        "                nuevo_valor = int(input(\"Ingrese el número a agregar: \"))\n",
        "                numeros.append(nuevo_valor)\n",
        "                print(\"Número agregado correctamente.\")\n",
        "            except ValueError:\n",
        "                print(\"Por favor, ingrese un número válido.\")\n",
        "        elif opcion == \"7\":\n",
        "            print(\"Saliendo de la aplicación.\")\n",
        "            break\n",
        "        else:\n",
        "            print(\"Opción no válida, intente de nuevo.\")\n",
        "menu_operaciones()\n"
      ]
    }
  ],
  "metadata": {
    "colab": {
      "provenance": []
    },
    "kernelspec": {
      "display_name": "Python 3",
      "name": "python3"
    },
    "language_info": {
      "name": "python"
    }
  },
  "nbformat": 4,
  "nbformat_minor": 0
}
