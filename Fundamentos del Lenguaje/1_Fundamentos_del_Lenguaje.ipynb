{
  "cells": [
    {
      "cell_type": "markdown",
      "metadata": {},
      "source": [
        "EJERCICIOS 8/03/2025"
      ]
    },
    {
      "cell_type": "code",
      "execution_count": null,
      "metadata": {
        "id": "V82-0DIHmYUY"
      },
      "outputs": [],
      "source": [
        "#Primera Actividad\n",
        "estado_civil = input(\"¿Es soltera? (sí/no): \")\n",
        "edad = int(input(\"¿Cuál es su edad? \"))\n",
        "buena_persona = input(\"¿Es buena persona? (sí/no): \")\n",
        "\n",
        "if estado_civil == \"si\":\n",
        "    if edad == 20 and buena_persona == \"no\":\n",
        "        print(\"a. Soltera, Linda de 20 años y no es buena persona\")\n",
        "    elif edad == 15 and buena_persona == \"si\":\n",
        "        print(\"b. Buena persona, no es linda, es soltera y de 15 años\")\n",
        "    elif edad == 31 and buena_persona == \"no\":\n",
        "        print(\"c. Soltera de 31 años no buena persona y linda\")\n",
        "elif estado_civil == \"no\":\n",
        "    if edad == 25 and buena_persona == \"si\":\n",
        "        print(\"d. Casada de 25 años linda y buena persona\")\n",
        "    if edad == 45 and buena_persona == \"no\":\n",
        "        print (\"e. Casada de 45 años linda y no es buena persona\")"
      ]
    },
    {
      "cell_type": "code",
      "execution_count": null,
      "metadata": {},
      "outputs": [],
      "source": [
        "#Segunda Actividad\n",
        "temperatura = int(input(\"Ingrese la temperatura de la máquina:\"))\n",
        "\n",
        "if temperatura > 80:\n",
        "    print(\"El motor se apaga automáticamente debido a la temperatura alta.\")\n",
        "else:\n",
        "    print(\"El motor sigue encendido.\")\n"
      ]
    },
    {
      "cell_type": "code",
      "execution_count": null,
      "metadata": {},
      "outputs": [],
      "source": [
        "#Tercer Actividad\n",
        "estrato = int(input(\"Ingrese su estrato:\"))\n",
        "edad = int(input(\"Ingrese su edad:\"))\n",
        "valor_matricula = int(input(\"Ingrese el valor de la matrícula:\"))\n",
        "\n",
        "if estrato == 1:\n",
        "    if edad < 18:\n",
        "        descuento = 0.20\n",
        "        print(\"Su descuento es 20%\")\n",
        "    elif edad >= 18:\n",
        "        descuento = 0.15\n",
        "        print(\"Su descuento es 15%\")\n",
        "elif estrato == 2:\n",
        "    if edad < 18:\n",
        "        descuento = 0.10\n",
        "        print(\"Su descuento es 10%\")\n",
        "    elif edad >= 18:\n",
        "        descuento = 0.05\n",
        "        print(\"Su descuento es 5%\")\n",
        "\n",
        "precio_a_pagar = valor_matricula * (1 - descuento)\n",
        "\n",
        "print(f\"El precio a pagar por la matrícula es: {precio_a_pagar:}\")"
      ]
    },
    {
      "cell_type": "code",
      "execution_count": null,
      "metadata": {},
      "outputs": [],
      "source": [
        "#Cuarta Actividad\n",
        "entrada = input(\"Ingrese los estándares de calidad (cadena binaria): \")\n",
        "\n",
        "if '0' in entrada:\n",
        "    print(\"La pieza ha sido rechazada. Alerta enviada al operador.\")\n",
        "else:\n",
        "    print(\"La pieza ha sido aprobada. Continuar con la producción.\")"
      ]
    },
    {
      "cell_type": "code",
      "execution_count": null,
      "metadata": {},
      "outputs": [],
      "source": [
        "#1.Leer un número y presentar la tabla de multiplicar de ese número entre 1 y 10. Utilizar el siguiente formato de ejemplo:\n",
        "numero = int(input(\"Ingresa un número para ver su tabla de multiplicar: \"))\n",
        "\n",
        "print(f\"Tabla de multiplicar del {numero}:\")\n",
        "print(f\"{numero} * 1 = {numero * 1}\")\n",
        "print(f\"{numero} * 2 = {numero * 2}\")\n",
        "print(f\"{numero} * 3 = {numero * 3}\")\n",
        "print(f\"{numero} * 4 = {numero * 4}\")\n",
        "print(f\"{numero} * 5 = {numero * 5}\")\n",
        "print(f\"{numero} * 6 = {numero * 6}\")\n",
        "print(f\"{numero} * 7 = {numero * 7}\")\n",
        "print(f\"{numero} * 8 = {numero * 8}\")\n",
        "print(f\"{numero} * 9 = {numero * 9}\")\n",
        "print(f\"{numero} * 10 = {numero * 10}\")"
      ]
    },
    {
      "cell_type": "code",
      "execution_count": null,
      "metadata": {},
      "outputs": [],
      "source": [
        "#2.En un partido de fútbol, se ofrece un descuento a los aficionados que depende del estrato y la edad. Si el estrato es 1 y su edad es menor a 18 el descuento será del 20% sobre el valor de la boleta. Si el estrato es 1 y el alumno tiene 18 o mas años, el descuento será del 15%. Si el estrato es 2 y la edad es menor a 18 años, el descuento será del 10% y si el estrato es 2 y la edad es 18 años o más, el descuento será del 5%. Determinar el total del dinero recaudado y descontado por las últimas N personas que ingresan al partido.\n",
        "total recaudado 0 Por total recaudado total recaudado + pago\n",
        "\n",
        "N = int(input(\"Ingresa el número de personas que ingresan al partido: \"))\n",
        "\n",
        "total_recaudado = 0\n",
        "\n",
        "for i in range(N):\n",
        "\n",
        "    estrato = int(input(\"Ingresa el estrato (1 o 2): \"))\n",
        "    edad = int(input(\"Ingresa la edad de la persona: \"))\n",
        "    valor_boleta = (input(\"Ingresa el valor de la boleta: \"))\n",
        "\n",
        "\n",
        "    if estrato == 1:\n",
        "        if edad < 18:\n",
        "            descuento = 0.20\n",
        "        else:\n",
        "            descuento = 0.15\n",
        "    elif estrato == 2:\n",
        "        if edad < 25:\n",
        "            descuento = 0.10\n",
        "        else:\n",
        "            descuento = 0.05\n",
        "\n",
        "\n",
        "    pago = valor_boleta - (valor_boleta * descuento)\n",
        "\n",
        "\n",
        "    total_recaudado = total_recaudado + pago\n",
        "\n",
        "\n",
        "print(\"El total recaudado es:\", total_recaudado)"
      ]
    },
    {
      "cell_type": "code",
      "execution_count": null,
      "metadata": {},
      "outputs": [],
      "source": [
        "#3.Leer un password de ingreso a un programa y mostrar el mensaje de bienvenida si es correcto. Mientras no lo sea, debe mostrar el mensaje de Password incorrecto. El programa debe terminar automáticamente al quinto intento fallido.\n",
        "password_correcto = \"1234\"\n",
        "\n",
        "\n",
        "intentos_fallidos = 0\n",
        "\n",
        "while intentos_fallidos < 5:\n",
        "\n",
        "    password_ingresado = input(\"Ingresa el password: \")\n",
        "\n",
        "    if password_ingresado == password_correcto:\n",
        "        print(\"Bienvenido al programa.\")\n",
        "        break\n",
        "    else:\n",
        "        intentos_fallidos = intentos_fallidos + 1\n",
        "        print(\"Password incorrecto.\")\n",
        "\n",
        "        if intentos_fallidos == 5:\n",
        "            print(\"Número máximo de intentos fallidos alcanzado. El programa se cerrará.\")"
      ]
    }
  ],
  "metadata": {
    "colab": {
      "provenance": []
    },
    "kernelspec": {
      "display_name": "Python 3",
      "name": "python3"
    },
    "language_info": {
      "name": "python"
    }
  },
  "nbformat": 4,
  "nbformat_minor": 0
}
